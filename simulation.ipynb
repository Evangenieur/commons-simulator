{
 "cells": [
  {
   "cell_type": "code",
   "execution_count": 1,
   "metadata": {},
   "outputs": [],
   "source": [
    "from typing import List\n",
    "import networkx as nx\n",
    "import numpy as np\n",
    "import pandas as pd\n",
    "import datetime\n",
    "from hatch import contributions_to_token_batches, TokenBatch, Commons\n",
    "from convictionvoting import trigger_threshold\n",
    "from network_helpers import *\n",
    "from IPython.core.debugger import set_trace\n",
    "\n",
    "from cadCAD.configuration import Configuration\n",
    "\n",
    "\n",
    "def initialize_network_of_hatchers(participants: List[TokenBatch]) -> nx.DiGraph:\n",
    "    \"\"\"\n",
    "    The role of this function is simply to fill up the directed graph.\n",
    "    Helper functions setting up the tokens etc should be defined elsewhere\n",
    "    and only provide values to this dumb function to put in the graph.\n",
    "    \"\"\"\n",
    "    network = nx.DiGraph()\n",
    "    for i, p in enumerate(participants):\n",
    "        network.add_node(i, type=\"participant\", holdings_vesting=p, holdings_nonvesting=TokenBatch(0), sentiment=np.random.rand())\n",
    "    return network\n"
   ]
  },
  {
   "cell_type": "markdown",
   "metadata": {},
   "source": [
    "# The cell below is for copy/pasting policy functions from libraries into, for debugging"
   ]
  },
  {
   "cell_type": "code",
   "execution_count": null,
   "metadata": {},
   "outputs": [],
   "source": []
  },
  {
   "cell_type": "code",
   "execution_count": 2,
   "metadata": {},
   "outputs": [
    {
     "ename": "KeyError",
     "evalue": "'item'",
     "output_type": "error",
     "traceback": [
      "\u001b[0;31m---------------------------------------------------------------------------\u001b[0m",
      "\u001b[0;31mKeyError\u001b[0m                                  Traceback (most recent call last)",
      "\u001b[0;32m<ipython-input-2-6c5f2b65ad4c>\u001b[0m in \u001b[0;36m<module>\u001b[0;34m\u001b[0m\n\u001b[1;32m      5\u001b[0m \u001b[0mnetwork\u001b[0m \u001b[0;34m=\u001b[0m \u001b[0minitialize_network_of_hatchers\u001b[0m\u001b[0;34m(\u001b[0m\u001b[0mtoken_batches\u001b[0m\u001b[0;34m)\u001b[0m\u001b[0;34m\u001b[0m\u001b[0;34m\u001b[0m\u001b[0m\n\u001b[1;32m      6\u001b[0m \u001b[0mcommons\u001b[0m \u001b[0;34m=\u001b[0m \u001b[0mCommons\u001b[0m\u001b[0;34m(\u001b[0m\u001b[0msum\u001b[0m\u001b[0;34m(\u001b[0m\u001b[0mcontributions\u001b[0m\u001b[0;34m)\u001b[0m\u001b[0;34m,\u001b[0m \u001b[0minitial_token_supply\u001b[0m\u001b[0;34m,\u001b[0m \u001b[0mexit_tribute\u001b[0m\u001b[0;34m=\u001b[0m\u001b[0;36m0.35\u001b[0m\u001b[0;34m)\u001b[0m\u001b[0;34m\u001b[0m\u001b[0;34m\u001b[0m\u001b[0m\n\u001b[0;32m----> 7\u001b[0;31m \u001b[0mnetwork\u001b[0m \u001b[0;34m=\u001b[0m \u001b[0madd_proposals_and_relationships_to_network\u001b[0m\u001b[0;34m(\u001b[0m\u001b[0mnetwork\u001b[0m\u001b[0;34m,\u001b[0m \u001b[0;36m3\u001b[0m\u001b[0;34m,\u001b[0m \u001b[0mcommons\u001b[0m\u001b[0;34m.\u001b[0m\u001b[0m_funding_pool\u001b[0m\u001b[0;34m,\u001b[0m \u001b[0mcommons\u001b[0m\u001b[0;34m.\u001b[0m\u001b[0m_token_supply\u001b[0m\u001b[0;34m)\u001b[0m\u001b[0;34m\u001b[0m\u001b[0;34m\u001b[0m\u001b[0m\n\u001b[0m\u001b[1;32m      8\u001b[0m \u001b[0;34m\u001b[0m\u001b[0m\n\u001b[1;32m      9\u001b[0m initial_conditions = {\n",
      "\u001b[0;32m~/source/work/consolidate/network_helpers.py\u001b[0m in \u001b[0;36madd_proposals_and_relationships_to_network\u001b[0;34m(n, proposals, funding_pool, token_supply)\u001b[0m\n\u001b[1;32m     97\u001b[0m             \u001b[0mn\u001b[0m\u001b[0;34m.\u001b[0m\u001b[0medges\u001b[0m\u001b[0;34m[\u001b[0m\u001b[0;34m(\u001b[0m\u001b[0mi\u001b[0m\u001b[0;34m,\u001b[0m \u001b[0mj\u001b[0m\u001b[0;34m)\u001b[0m\u001b[0;34m]\u001b[0m\u001b[0;34m[\u001b[0m\u001b[0;34m'type'\u001b[0m\u001b[0;34m]\u001b[0m \u001b[0;34m=\u001b[0m \u001b[0;34m'support'\u001b[0m\u001b[0;34m\u001b[0m\u001b[0;34m\u001b[0m\u001b[0m\n\u001b[1;32m     98\u001b[0m \u001b[0;34m\u001b[0m\u001b[0m\n\u001b[0;32m---> 99\u001b[0;31m         \u001b[0mn\u001b[0m \u001b[0;34m=\u001b[0m \u001b[0minitial_conflict_network\u001b[0m\u001b[0;34m(\u001b[0m\u001b[0mn\u001b[0m\u001b[0;34m,\u001b[0m \u001b[0mrate\u001b[0m\u001b[0;34m=\u001b[0m\u001b[0;36m.25\u001b[0m\u001b[0;34m)\u001b[0m\u001b[0;34m\u001b[0m\u001b[0;34m\u001b[0m\u001b[0m\n\u001b[0m\u001b[1;32m    100\u001b[0m         \u001b[0mn\u001b[0m \u001b[0;34m=\u001b[0m \u001b[0minitial_social_network\u001b[0m\u001b[0;34m(\u001b[0m\u001b[0mn\u001b[0m\u001b[0;34m,\u001b[0m \u001b[0mscale\u001b[0m\u001b[0;34m=\u001b[0m\u001b[0;36m1\u001b[0m\u001b[0;34m)\u001b[0m\u001b[0;34m\u001b[0m\u001b[0;34m\u001b[0m\u001b[0m\n\u001b[1;32m    101\u001b[0m     \u001b[0;32mreturn\u001b[0m \u001b[0mn\u001b[0m\u001b[0;34m\u001b[0m\u001b[0;34m\u001b[0m\u001b[0m\n",
      "\u001b[0;32m~/source/work/consolidate/network_helpers.py\u001b[0m in \u001b[0;36minitial_conflict_network\u001b[0;34m(network, rate)\u001b[0m\n\u001b[1;32m     63\u001b[0m \u001b[0;34m\u001b[0m\u001b[0m\n\u001b[1;32m     64\u001b[0m \u001b[0;32mdef\u001b[0m \u001b[0minitial_conflict_network\u001b[0m\u001b[0;34m(\u001b[0m\u001b[0mnetwork\u001b[0m\u001b[0;34m:\u001b[0m \u001b[0mnx\u001b[0m\u001b[0;34m.\u001b[0m\u001b[0mDiGraph\u001b[0m\u001b[0;34m,\u001b[0m \u001b[0mrate\u001b[0m\u001b[0;34m=\u001b[0m\u001b[0;36m.25\u001b[0m\u001b[0;34m)\u001b[0m \u001b[0;34m->\u001b[0m \u001b[0mnx\u001b[0m\u001b[0;34m.\u001b[0m\u001b[0mDiGraph\u001b[0m\u001b[0;34m:\u001b[0m\u001b[0;34m\u001b[0m\u001b[0;34m\u001b[0m\u001b[0m\n\u001b[0;32m---> 65\u001b[0;31m     \u001b[0mproposals\u001b[0m \u001b[0;34m=\u001b[0m \u001b[0mget_proposals\u001b[0m\u001b[0;34m(\u001b[0m\u001b[0mnetwork\u001b[0m\u001b[0;34m)\u001b[0m\u001b[0;34m\u001b[0m\u001b[0;34m\u001b[0m\u001b[0m\n\u001b[0m\u001b[1;32m     66\u001b[0m \u001b[0;34m\u001b[0m\u001b[0m\n\u001b[1;32m     67\u001b[0m     \u001b[0;32mfor\u001b[0m \u001b[0mi\u001b[0m \u001b[0;32min\u001b[0m \u001b[0mproposals\u001b[0m\u001b[0;34m:\u001b[0m\u001b[0;34m\u001b[0m\u001b[0;34m\u001b[0m\u001b[0m\n",
      "\u001b[0;32m~/source/work/consolidate/network_helpers.py\u001b[0m in \u001b[0;36mget_proposals\u001b[0;34m(network)\u001b[0m\n\u001b[1;32m     41\u001b[0m \u001b[0;34m\u001b[0m\u001b[0m\n\u001b[1;32m     42\u001b[0m \u001b[0;32mdef\u001b[0m \u001b[0mget_proposals\u001b[0m\u001b[0;34m(\u001b[0m\u001b[0mnetwork\u001b[0m\u001b[0;34m)\u001b[0m\u001b[0;34m:\u001b[0m\u001b[0;34m\u001b[0m\u001b[0;34m\u001b[0m\u001b[0m\n\u001b[0;32m---> 43\u001b[0;31m     \u001b[0;32mreturn\u001b[0m \u001b[0;34m[\u001b[0m\u001b[0mi\u001b[0m \u001b[0;32mfor\u001b[0m \u001b[0mi\u001b[0m \u001b[0;32min\u001b[0m \u001b[0mnetwork\u001b[0m\u001b[0;34m.\u001b[0m\u001b[0mnodes\u001b[0m \u001b[0;32mif\u001b[0m \u001b[0misinstance\u001b[0m\u001b[0;34m(\u001b[0m\u001b[0mnetwork\u001b[0m\u001b[0;34m.\u001b[0m\u001b[0mnodes\u001b[0m\u001b[0;34m[\u001b[0m\u001b[0mi\u001b[0m\u001b[0;34m]\u001b[0m\u001b[0;34m[\u001b[0m\u001b[0;34m\"item\"\u001b[0m\u001b[0;34m]\u001b[0m\u001b[0;34m,\u001b[0m \u001b[0mProposal\u001b[0m\u001b[0;34m)\u001b[0m\u001b[0;34m]\u001b[0m\u001b[0;34m\u001b[0m\u001b[0;34m\u001b[0m\u001b[0m\n\u001b[0m\u001b[1;32m     44\u001b[0m \u001b[0;34m\u001b[0m\u001b[0m\n\u001b[1;32m     45\u001b[0m \u001b[0;34m\u001b[0m\u001b[0m\n",
      "\u001b[0;32m~/source/work/consolidate/network_helpers.py\u001b[0m in \u001b[0;36m<listcomp>\u001b[0;34m(.0)\u001b[0m\n\u001b[1;32m     41\u001b[0m \u001b[0;34m\u001b[0m\u001b[0m\n\u001b[1;32m     42\u001b[0m \u001b[0;32mdef\u001b[0m \u001b[0mget_proposals\u001b[0m\u001b[0;34m(\u001b[0m\u001b[0mnetwork\u001b[0m\u001b[0;34m)\u001b[0m\u001b[0;34m:\u001b[0m\u001b[0;34m\u001b[0m\u001b[0;34m\u001b[0m\u001b[0m\n\u001b[0;32m---> 43\u001b[0;31m     \u001b[0;32mreturn\u001b[0m \u001b[0;34m[\u001b[0m\u001b[0mi\u001b[0m \u001b[0;32mfor\u001b[0m \u001b[0mi\u001b[0m \u001b[0;32min\u001b[0m \u001b[0mnetwork\u001b[0m\u001b[0;34m.\u001b[0m\u001b[0mnodes\u001b[0m \u001b[0;32mif\u001b[0m \u001b[0misinstance\u001b[0m\u001b[0;34m(\u001b[0m\u001b[0mnetwork\u001b[0m\u001b[0;34m.\u001b[0m\u001b[0mnodes\u001b[0m\u001b[0;34m[\u001b[0m\u001b[0mi\u001b[0m\u001b[0;34m]\u001b[0m\u001b[0;34m[\u001b[0m\u001b[0;34m\"item\"\u001b[0m\u001b[0;34m]\u001b[0m\u001b[0;34m,\u001b[0m \u001b[0mProposal\u001b[0m\u001b[0;34m)\u001b[0m\u001b[0;34m]\u001b[0m\u001b[0;34m\u001b[0m\u001b[0;34m\u001b[0m\u001b[0m\n\u001b[0m\u001b[1;32m     44\u001b[0m \u001b[0;34m\u001b[0m\u001b[0m\n\u001b[1;32m     45\u001b[0m \u001b[0;34m\u001b[0m\u001b[0m\n",
      "\u001b[0;31mKeyError\u001b[0m: 'item'"
     ]
    }
   ],
   "source": [
    "# contributions = [5e5, 5e5, 2.5e5]\n",
    "contributions = [np.random.rand() * 10e5 for i in range(60)]\n",
    "token_batches, initial_token_supply = contributions_to_token_batches(contributions, 0.1, 60)\n",
    "\n",
    "network = initialize_network_of_hatchers(token_batches)\n",
    "commons = Commons(sum(contributions), initial_token_supply, exit_tribute=0.35)\n",
    "network = add_proposals_and_relationships_to_network(network, 3, commons._funding_pool, commons._token_supply)\n",
    "\n",
    "initial_conditions = {\n",
    "    \"network\": network,\n",
    "    \"commons\": commons,\n",
    "    \"funding_pool\": commons._funding_pool,\n",
    "    \"collateral_pool\": commons._collateral_pool,\n",
    "    \"token_supply\": commons._token_supply,\n",
    "    \"sentiment\": 0.5,\n",
    "}\n",
    "\n",
    "partial_state_update_blocks = [\n",
    "    {\n",
    "        \"policies\": {\n",
    "            \"gen_new_participants_proposals_funding\": gen_new_participants_proposals_funding_randomly\n",
    "        },\n",
    "        'variables': {\n",
    "            'network': add_participants_proposals_to_network,\n",
    "            'commons': new_participants_and_new_funds_commons,\n",
    "        }\n",
    "    },\n",
    "    {\n",
    "        \"policies\": {},\n",
    "        \"variables\": {\n",
    "            \"funding_pool\": update_funding_pool,\n",
    "            \"collateral_pool\": update_collateral_pool,\n",
    "            \"token_supply\": update_token_supply,\n",
    "        }\n",
    "    },\n",
    "    {\n",
    "        \"policies\": {\n",
    "            \"make_active_proposals_complete_or_fail\": make_active_proposals_complete_or_fail_randomly,\n",
    "        },\n",
    "        \"variables\": {\n",
    "            \"sentiment\": sentiment_decays_wo_completed_proposals,\n",
    "            \"network\": update_network_w_proposal_status,\n",
    "        }\n",
    "    },\n",
    "    {\n",
    "        \"policies\": {\n",
    "            \"decide_proposals_to_fund\": calculate_conviction,\n",
    "        },\n",
    "        \"variables\": {\n",
    "            'commons': decrement_commons_funding_pool, #funds expended\n",
    "            'sentiment': update_sentiment_on_release, #releasing funds can bump sentiment\n",
    "            'network': update_proposals #reset convictions, and participants sentiments\n",
    "                                        #update based on affinities\n",
    "        }\n",
    "    },\n",
    "    {\n",
    "        \"policies\": {\n",
    "            \"participants_start_to_act\": participants_buy_more_if_they_feel_good_and_vote_for_proposals\n",
    "        },\n",
    "        \"variables\": {\n",
    "            \"network\": update_holdings_nonvesting_of_participants,\n",
    "        }\n",
    "    },\n",
    "    {\n",
    "        \"policies\": {},\n",
    "        \"variables\": {\n",
    "            \"funding_pool\": update_funding_pool,\n",
    "            \"collateral_pool\": update_collateral_pool,\n",
    "            \"token_supply\": update_token_supply,\n",
    "        }\n",
    "    },\n",
    "]"
   ]
  },
  {
   "cell_type": "code",
   "execution_count": null,
   "metadata": {
    "tags": [
     "outputPrepend"
    ]
   },
   "outputs": [],
   "source": [
    "simulation_parameters = {\n",
    "    'T': range(150),\n",
    "    'N': 1,\n",
    "    'M': {\n",
    "        \"sentiment_decay\": 0.01, #termed mu in the state update function\n",
    "        \"trigger_threshold\": trigger_threshold,\n",
    "        \"min_proposal_age_days\": 7, # minimum periods passed before a proposal can pass,\n",
    "        \"sentiment_sensitivity\": 0.75,\n",
    "        \"alpha\": 0.5, # conviction voting parameter\n",
    "        'min_supp':50, #number of tokens that must be stake for a proposal to be a candidate\n",
    "    }\n",
    "}\n",
    "\n",
    "# # # # # # # # # # # # # # # # # # # # # # # # # # # # # # # # # # # # # # # # # # # # # # # # \n",
    "# The configurations above are then packaged into a `Configuration` object\n",
    "config = Configuration(initial_state=initial_conditions, #dict containing variable names and initial values\n",
    "                       partial_state_update_blocks=partial_state_update_blocks, #dict containing state update functions\n",
    "                       sim_config=simulation_parameters #dict containing simulation parameters\n",
    "                      )\n",
    "\n",
    "\n",
    "from cadCAD.engine import ExecutionMode, ExecutionContext, Executor\n",
    "exec_mode = ExecutionMode()\n",
    "exec_context = ExecutionContext(exec_mode.single_proc) # Do not use multi_proc, breaks ipdb.set_trace()\n",
    "executor = Executor(exec_context, [config]) # Pass the configuration object inside an array\n",
    "raw_result, tensor = executor.execute() # The `execute()` method returns a tuple; its first elements contains the raw results"
   ]
  },
  {
   "cell_type": "code",
   "execution_count": null,
   "metadata": {
    "tags": [
     "outputPrepend"
    ]
   },
   "outputs": [],
   "source": [
    "df = pd.DataFrame(raw_result)\n",
    "df_final = df[df.substep.eq(2)]\n"
   ]
  },
  {
   "cell_type": "code",
   "execution_count": null,
   "metadata": {},
   "outputs": [],
   "source": [
    "df_final.plot(\"timestep\", \"collateral_pool\", grid=True)\n",
    "df_final.plot(\"timestep\", \"token_supply\", grid=True)\n",
    "df_final.plot(\"timestep\", \"funding_pool\", grid=True)"
   ]
  },
  {
   "cell_type": "code",
   "execution_count": null,
   "metadata": {},
   "outputs": [],
   "source": [
    "import matplotlib.pyplot as plt\n",
    "supporters = get_edges_by_type(network, 'support')\n",
    "influencers = get_edges_by_type(network, 'influence')\n",
    "competitors = get_edges_by_type(network, 'conflict')\n",
    "\n",
    "nx.draw_kamada_kawai(network, nodelist = get_participants(network), edgelist=influencers)\n",
    "plt.title('Participants Social Network')"
   ]
  },
  {
   "cell_type": "code",
   "execution_count": null,
   "metadata": {},
   "outputs": [],
   "source": []
  }
 ],
 "metadata": {
  "kernelspec": {
   "display_name": "Python 3.8.2 64-bit ('cadcad': virtualenv)",
   "language": "python",
   "name": "python38264bitcadcadvirtualenv759203ea8fcd4eb59bfff73a3b8619e8"
  },
  "language_info": {
   "codemirror_mode": {
    "name": "ipython",
    "version": 3
   },
   "file_extension": ".py",
   "mimetype": "text/x-python",
   "name": "python",
   "nbconvert_exporter": "python",
   "pygments_lexer": "ipython3",
   "version": "3.8.3"
  }
 },
 "nbformat": 4,
 "nbformat_minor": 2
}
