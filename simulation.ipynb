{
 "cells": [
  {
   "cell_type": "code",
   "execution_count": 1,
   "metadata": {},
   "outputs": [],
   "source": [
    "import networkx as nx\n",
    "import numpy as np\n",
    "import pandas as pd\n",
    "import datetime\n",
    "from hatch import create_token_batches, TokenBatch, Commons\n",
    "from convictionvoting import trigger_threshold\n",
    "from policies import *\n",
    "from network_utils import *\n",
    "from IPython.core.debugger import set_trace\n",
    "from entities import Participant, Proposal\n",
    "from cadCAD.configuration import Configuration\n",
    "from cadCAD.engine import ExecutionMode, ExecutionContext, Executor"
   ]
  },
  {
   "cell_type": "code",
   "execution_count": 2,
   "metadata": {},
   "outputs": [],
   "source": [
    "def update_collateral_pool(params, step, sL, s, _input):\n",
    "    commons = s[\"commons\"]\n",
    "    s[\"collateral_pool\"] = commons._collateral_pool\n",
    "    return \"collateral_pool\", commons._collateral_pool\n",
    "\n",
    "\n",
    "def update_token_supply(params, step, sL, s, _input):\n",
    "    commons = s[\"commons\"]\n",
    "    s[\"token_supply\"] = commons._token_supply\n",
    "    return \"token_supply\", commons._token_supply\n",
    "\n",
    "\n",
    "def update_funding_pool(params, step, sL, s, _input):\n",
    "    commons = s[\"commons\"]\n",
    "    s[\"funding_pool\"] = commons._funding_pool\n",
    "    return \"funding_pool\", commons._funding_pool"
   ]
  },
  {
   "cell_type": "code",
   "execution_count": 3,
   "metadata": {},
   "outputs": [],
   "source": [
    "# contributions = [5e5, 5e5, 2.5e5]\n",
    "contributions = [np.random.rand() * 10e5 for i in range(60)]\n",
    "token_batches, initial_token_supply = create_token_batches(contributions, 0.1, 60)\n",
    "\n",
    "commons = Commons(sum(contributions), initial_token_supply, exit_tribute=0.35)\n",
    "network = bootstrap_network(token_batches, 3, commons._funding_pool, commons._token_supply)\n",
    "\n",
    "initial_conditions = {\n",
    "    \"network\": network,\n",
    "    \"commons\": commons,\n",
    "    \"funding_pool\": commons._funding_pool,\n",
    "    \"collateral_pool\": commons._collateral_pool,\n",
    "    \"token_supply\": commons._token_supply,\n",
    "    \"sentiment\": 0.5,\n",
    "}\n",
    "\n",
    "partial_state_update_blocks = [\n",
    "    {\n",
    "        \"policies\": {\n",
    "            \"generate_new_participants\": GenerateNewParticipant.p_randomly,\n",
    "        },\n",
    "        'variables': {\n",
    "            'network': GenerateNewParticipant.su_add_to_network,\n",
    "            'commons': GenerateNewParticipant.su_add_investment_to_commons,\n",
    "        }\n",
    "    },\n",
    "    {\n",
    "        \"policies\": {},\n",
    "        \"variables\": {\n",
    "            \"funding_pool\": update_funding_pool,\n",
    "            \"collateral_pool\": update_collateral_pool,\n",
    "            \"token_supply\": update_token_supply,\n",
    "        }\n",
    "    },\n",
    "    {\n",
    "        \"policies\": {\n",
    "            \"generate_new_proposals\": GenerateNewProposal.p_randomly,\n",
    "        },\n",
    "        \"variables\": {\n",
    "            \"network\": GenerateNewProposal.su_add_to_network,\n",
    "        }\n",
    "    },\n",
    "    {\n",
    "        \"policies\": {\n",
    "            \"generate_new_funding\": GenerateNewFunding.p_exit_tribute_of_average_speculator_position_size,\n",
    "        },\n",
    "        \"variables\": {\n",
    "            \"network\": GenerateNewFunding.su_add_funding,\n",
    "        }\n",
    "    },\n",
    "]"
   ]
  },
  {
   "cell_type": "code",
   "execution_count": 4,
   "metadata": {
    "tags": []
   },
   "outputs": [
    {
     "name": "stdout",
     "output_type": "stream",
     "text": [
      "\n",
      "                            __________   ____ \n",
      "          ________ __ _____/ ____/   |  / __ \\\n",
      "         / ___/ __` / __  / /   / /| | / / / /\n",
      "        / /__/ /_/ / /_/ / /___/ ___ |/ /_/ / \n",
      "        \\___/\\__,_/\\__,_/\\____/_/  |_/_____/  \n",
      "        by BlockScience\n",
      "        \n",
      "Execution Mode: single_proc: [<cadCAD.configuration.Configuration object at 0x7f2a78647b50>]\n",
      "Configurations: [<cadCAD.configuration.Configuration object at 0x7f2a78647b50>]\n"
     ]
    }
   ],
   "source": [
    "\n",
    "# TODO: make it explicit that 1 timestep is 1 day\n",
    "simulation_parameters = {\n",
    "    'T': range(150),\n",
    "    'N': 1,\n",
    "    'M': {\n",
    "        \"sentiment_decay\": 0.01, #termed mu in the state update function\n",
    "        \"trigger_threshold\": trigger_threshold,\n",
    "        \"min_proposal_age_days\": 7, # minimum periods passed before a proposal can pass,\n",
    "        \"sentiment_sensitivity\": 0.75,\n",
    "        \"alpha\": 0.5, # conviction voting parameter\n",
    "        'min_supp':50, #number of tokens that must be stake for a proposal to be a candidate\n",
    "    }\n",
    "}\n",
    "\n",
    "# # # # # # # # # # # # # # # # # # # # # # # # # # # # # # # # # # # # # # # # # # # # # # # # \n",
    "# The configurations above are then packaged into a `Configuration` object\n",
    "config = Configuration(initial_state=initial_conditions, #dict containing variable names and initial values\n",
    "                       partial_state_update_blocks=partial_state_update_blocks, #dict containing state update functions\n",
    "                       sim_config=simulation_parameters #dict containing simulation parameters\n",
    "                      )\n",
    "\n",
    "exec_mode = ExecutionMode()\n",
    "exec_context = ExecutionContext(exec_mode.single_proc) # Do not use multi_proc, breaks ipdb.set_trace()\n",
    "executor = Executor(exec_context, [config]) # Pass the configuration object inside an array\n",
    "raw_result, tensor = executor.execute() # The `execute()` method returns a tuple; its first elements contains the raw results"
   ]
  },
  {
   "cell_type": "code",
   "execution_count": 5,
   "metadata": {
    "tags": []
   },
   "outputs": [],
   "source": [
    "df = pd.DataFrame(raw_result)\n",
    "df_final = df[df.substep.eq(2)]\n"
   ]
  },
  {
   "cell_type": "code",
   "execution_count": 6,
   "metadata": {},
   "outputs": [
    {
     "data": {
      "text/plain": [
       "<matplotlib.axes._subplots.AxesSubplot at 0x7f2a39626c10>"
      ]
     },
     "execution_count": 6,
     "metadata": {},
     "output_type": "execute_result"
    },
    {
     "data": {
      "image/png": "[encoded data removed]",
      "text/plain": [
       "<Figure size 432x288 with 1 Axes>"
      ]
     },
     "metadata": {
      "needs_background": "light"
     },
     "output_type": "display_data"
    },
    {
     "data": {
      "image/png": "[encoded data removed]",
      "text/plain": [
       "<Figure size 432x288 with 1 Axes>"
      ]
     },
     "metadata": {
      "needs_background": "light"
     },
     "output_type": "display_data"
    },
    {
     "data": {
      "image/png": "[encoded data removed]",
      "text/plain": [
       "<Figure size 432x288 with 1 Axes>"
      ]
     },
     "metadata": {
      "needs_background": "light"
     },
     "output_type": "display_data"
    }
   ],
   "source": [
    "df_final.plot(\"timestep\", \"collateral_pool\", grid=True)\n",
    "df_final.plot(\"timestep\", \"token_supply\", grid=True)\n",
    "df_final.plot(\"timestep\", \"funding_pool\", grid=True)"
   ]
  },
  {
   "cell_type": "code",
   "execution_count": 7,
   "metadata": {},
   "outputs": [],
   "source": [
    "# import matplotlib.pyplot as plt\n",
    "# supporters = get_edges_by_type(network, 'support')\n",
    "# influencers = get_edges_by_type(network, 'influence')\n",
    "# competitors = get_edges_by_type(network, 'conflict')\n",
    "\n",
    "# nx.draw_kamada_kawai(network, nodelist = get_participants(network), edgelist=influencers)\n",
    "# plt.title('Participants Social Network')"
   ]
  },
  {
   "cell_type": "code",
   "execution_count": null,
   "metadata": {},
   "outputs": [],
   "source": []
  }
 ],
 "metadata": {
  "kernelspec": {
   "display_name": "Python 3.8.2 64-bit ('cadcad': virtualenv)",
   "language": "python",
   "name": "python38264bitcadcadvirtualenv759203ea8fcd4eb59bfff73a3b8619e8"
  },
  "language_info": {
   "codemirror_mode": {
    "name": "ipython",
    "version": 3
   },
   "file_extension": ".py",
   "mimetype": "text/x-python",
   "name": "python",
   "nbconvert_exporter": "python",
   "pygments_lexer": "ipython3",
   "version": "3.8.5"
  }
 },
 "nbformat": 4,
 "nbformat_minor": 2
}
